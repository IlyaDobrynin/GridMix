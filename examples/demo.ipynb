{
 "cells": [
  {
   "cell_type": "code",
   "execution_count": 1,
   "metadata": {},
   "outputs": [],
   "source": [
    "import os\n",
    "import seaborn as sn\n",
    "import matplotlib.pyplot as plt\n",
    "import cv2\n",
    "import torch\n",
    "import numpy as np\n",
    "from gridmix import GridMixupLoss"
   ]
  },
  {
   "cell_type": "markdown",
   "metadata": {},
   "source": [
    "### Helper function for vizualization"
   ]
  },
  {
   "cell_type": "code",
   "execution_count": 2,
   "metadata": {},
   "outputs": [],
   "source": [
    "def visualize_batch(images, labels):\n",
    "    plt.figure(figsize=(10, 6))\n",
    "    for ind, image in enumerate(images):\n",
    "        plt.subplot(2, 2, ind + 1)\n",
    "        plt.imshow(image)  \n",
    "        plt.axis(\"off\")\n",
    "    plt.show()"
   ]
  },
  {
   "cell_type": "markdown",
   "metadata": {},
   "source": [
    "### Make list of images"
   ]
  },
  {
   "cell_type": "code",
   "execution_count": 3,
   "metadata": {},
   "outputs": [
    {
     "data": {
      "text/plain": "<Figure size 720x432 with 4 Axes>",
      "image/png": "[encoded data removed]"
     },
     "metadata": {
      "needs_background": "light"
     },
     "output_type": "display_data"
    }
   ],
   "source": [
    "images = [\n",
    "    np.ones(shape=(256, 256, 3), dtype=np.uint8) * [255, 0, 0],\n",
    "    np.ones(shape=(256, 256, 3), dtype=np.uint8) * [0, 255, 0],\n",
    "    np.ones(shape=(256, 256, 3), dtype=np.uint8) * [0, 0, 255],\n",
    "    np.ones(shape=(256, 256, 3), dtype=np.uint8) * [0, 255, 255]\n",
    "]\n",
    "visualize_batch(images, labels=0)"
   ]
  },
  {
   "cell_type": "markdown",
   "metadata": {},
   "source": [
    "### Convert images to torch.Tensor"
   ]
  },
  {
   "cell_type": "code",
   "execution_count": 4,
   "metadata": {},
   "outputs": [],
   "source": [
    "targets = torch.cat([torch.Tensor([1]), torch.Tensor([2]), torch.Tensor([3]), torch.Tensor([4])]).unsqueeze(-1)\n",
    "images_batch = torch.cat(\n",
    "    [torch.from_numpy(np.moveaxis(image, -1, 0)).unsqueeze(0) for image in images],\n",
    "    dim=0\n",
    ")"
   ]
  },
  {
   "cell_type": "markdown",
   "metadata": {},
   "source": [
    "### Apply GridMixup transformation"
   ]
  },
  {
   "cell_type": "code",
   "execution_count": 5,
   "metadata": {
    "pycharm": {
     "name": "#%%\n"
    }
   },
   "outputs": [
    {
     "data": {
      "text/plain": "<Figure size 720x432 with 4 Axes>",
      "image/png": "[encoded data removed]"
     },
     "metadata": {
      "needs_background": "light"
     },
     "output_type": "display_data"
    }
   ],
   "source": [
    "gridmix_cls = GridMixupLoss(\n",
    "    alpha=(0.4, 0.7),\n",
    "    hole_aspect_ratio=1.,\n",
    "    crop_area_ratio=(0.5, 1),\n",
    "    crop_aspect_ratio=(0.5, 2),\n",
    "    n_holes_x=(2, 6)\n",
    ")\n",
    "mixed_images_batch, mixed_targets = gridmix_cls.get_sample(images=images_batch, targets=targets)\n",
    "mixed_images = np.moveaxis(mixed_images_batch.data.cpu().numpy(), 1, -1)\n",
    "visualize_batch(images=mixed_images, labels=0)\n",
    "\n",
    "\n"
   ]
  }
 ],
 "metadata": {
  "kernelspec": {
   "display_name": "Python 3",
   "language": "python",
   "name": "python3"
  },
  "language_info": {
   "codemirror_mode": {
    "name": "ipython",
    "version": 3
   },
   "file_extension": ".py",
   "mimetype": "text/x-python",
   "name": "python",
   "nbconvert_exporter": "python",
   "pygments_lexer": "ipython3",
   "version": "3.6.9"
  }
 },
 "nbformat": 4,
 "nbformat_minor": 1
}