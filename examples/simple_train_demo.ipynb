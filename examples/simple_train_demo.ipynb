{
 "cells": [
  {
   "cell_type": "code",
   "execution_count": 2,
   "metadata": {},
   "outputs": [],
   "source": [
    "import typing as t\n",
    "import matplotlib.pyplot as plt\n",
    "import torch\n",
    "from torch import nn\n",
    "from torch.utils.data import DataLoader, Dataset\n",
    "from torch.optim import SGD\n",
    "from torchvision.transforms import ToTensor\n",
    "import numpy as np\n",
    "from sklearn.metrics import accuracy_score\n",
    "from gridmix import GridMixupLoss"
   ]
  },
  {
   "cell_type": "markdown",
   "metadata": {},
   "source": [
    "### Helpers for calculate accuracy and show images"
   ]
  },
  {
   "cell_type": "code",
   "execution_count": 3,
   "metadata": {},
   "outputs": [],
   "source": [
    "def accuracy(preds: torch.Tensor, trues: torch.Tensor) -> float:\n",
    "    lam = trues[-1, :][0].data.cpu().numpy()\n",
    "    true_label = [trues[0, :].long(), trues[1, :].long()]\n",
    "    trues = true_label[0] if lam > 0.5 else true_label[1]\n",
    "    trues = trues.data.cpu().numpy().astype(np.uint8)\n",
    "    preds = torch.softmax(preds, dim=1).float()\n",
    "    preds = np.argmax(preds.data.cpu().numpy(), axis=1).astype(np.uint8)\n",
    "    metric = accuracy_score(trues, preds)\n",
    "    return float(metric)"
   ]
  },
  {
   "cell_type": "code",
   "execution_count": 4,
   "metadata": {},
   "outputs": [],
   "source": [
    "def visualize_batch(images: np.ndarray, labels: np.ndarray):\n",
    "    plt.figure(figsize=(10, 6))\n",
    "    for ind, (image, label) in enumerate(zip(images, labels)):\n",
    "        plt.subplot(2, 2, ind + 1)\n",
    "        plt.imshow(image)    \n",
    "        plt.title(f\"Class: {label}\", fontsize=12)\n",
    "        plt.axis(\"off\")\n",
    "    plt.show()"
   ]
  },
  {
   "cell_type": "markdown",
   "metadata": {},
   "source": [
    "### Init simple dataset and dataloader"
   ]
  },
  {
   "cell_type": "code",
   "execution_count": 5,
   "metadata": {},
   "outputs": [],
   "source": [
    "class SampleDataset(Dataset):    \n",
    "    classes = {\n",
    "        0: [255, 0, 0],\n",
    "        1: [0, 255, 0],\n",
    "        2: [0, 0, 255],\n",
    "        3: [0, 255, 255]\n",
    "    }\n",
    "    \n",
    "    def __init__(self, num_samples: 1000):\n",
    "        self.class_list = [np.random.randint(min(self.classes), max(self.classes)) for _ in range(num_samples)]    \n",
    "        self.augs = ToTensor()\n",
    "\n",
    "    def __getitem__(self, idx: int) -> t.Dict[str, np.array]:\n",
    "        label = self.class_list[idx]\n",
    "        image = np.ones(shape=(224, 224, 3), dtype=np.uint8) * self.classes[label]\n",
    "        image_tensor = self.augs(image)\n",
    "        sample = {            \n",
    "            'image': image_tensor,\n",
    "            'target': label\n",
    "        }\n",
    "        return sample\n",
    "\n",
    "    def __len__(self) -> int:\n",
    "        return len(self.class_list)\n",
    "\n",
    "train_dataset = SampleDataset(num_samples=1000)\n",
    "train_dataloader = DataLoader(\n",
    "    train_dataset,\n",
    "    batch_size=4,\n",
    "    num_workers=1,\n",
    "    shuffle=False\n",
    ")"
   ]
  },
  {
   "cell_type": "markdown",
   "metadata": {},
   "source": [
    "### Show the first batch of dataset"
   ]
  },
  {
   "cell_type": "code",
   "execution_count": 6,
   "metadata": {},
   "outputs": [
    {
     "data": {
      "text/plain": "<Figure size 720x432 with 4 Axes>",
      "image/png": "[encoded data removed]"
     },
     "metadata": {
      "needs_background": "light"
     },
     "output_type": "display_data"
    }
   ],
   "source": [
    "for batch in train_dataloader:\n",
    "    images = np.moveaxis(batch['image'].data.cpu().numpy(), 1, -1)\n",
    "    labels = batch['target']    \n",
    "    visualize_batch(images, labels)\n",
    "    break"
   ]
  },
  {
   "cell_type": "markdown",
   "metadata": {},
   "source": [
    "### Define model"
   ]
  },
  {
   "cell_type": "code",
   "execution_count": 7,
   "metadata": {},
   "outputs": [],
   "source": [
    "class SimpleModel(nn.Module):\n",
    "    def __init__(self, out_classes: int = 4):\n",
    "        super(SimpleModel, self).__init__()\n",
    "        self.conv1 = nn.Conv2d(3, 128, kernel_size=3, stride=2, padding=1, bias=False)\n",
    "        self.relu1 = nn.ReLU(inplace=True)\n",
    "        self.conv2 = nn.Conv2d(128, 128, kernel_size=3, stride=2, padding=1, bias=False)\n",
    "        self.relu2 = nn.ReLU(inplace=True)\n",
    "        self.avgpool = nn.AdaptiveAvgPool2d(1)\n",
    "        self.fc = nn.Linear(128, out_classes)\n",
    "    \n",
    "    def forward(self, x):        \n",
    "        x = self.relu1(self.conv1(x))\n",
    "        x = self.relu2(self.conv2(x))        \n",
    "        x = self.avgpool(x)\n",
    "        x = torch.flatten(x, 1)\n",
    "        x = self.fc(x)\n",
    "        return x\n",
    "    \n",
    "model = SimpleModel().to(\"cuda\")"
   ]
  },
  {
   "cell_type": "markdown",
   "metadata": {},
   "source": [
    "### Define optimizer and criterion - GridMixupLoss"
   ]
  },
  {
   "cell_type": "code",
   "execution_count": 8,
   "metadata": {},
   "outputs": [],
   "source": [
    "optimizer = SGD(params=model.parameters(), lr=0.0001)\n",
    "criterion = GridMixupLoss(\n",
    "    alpha=(0.4, 0.7),\n",
    "    hole_aspect_ratio=1.,\n",
    "    crop_area_ratio=(0.5, 1),\n",
    "    crop_aspect_ratio=(0.5, 2),\n",
    "    n_holes_x=(2, 6)\n",
    ")"
   ]
  },
  {
   "cell_type": "markdown",
   "metadata": {},
   "source": [
    "### Simple train loop"
   ]
  },
  {
   "cell_type": "code",
   "execution_count": 9,
   "metadata": {},
   "outputs": [
    {
     "name": "stdout",
     "output_type": "stream",
     "text": [
      "Epoch: 1/5'loss': 1.0814795371134729, 'metric': 0.916\n",
      "Epoch: 2/5'loss': 0.626438344131071, 'metric': 0.932\n",
      "Epoch: 3/5'loss': 0.4583437018331606, 'metric': 0.966\n",
      "Epoch: 4/5'loss': 0.40648755827825517, 'metric': 0.978\n",
      "Epoch: 5/5'loss': 0.39161032465472817, 'metric': 0.978\n"
     ]
    }
   ],
   "source": [
    "epochs_total = 5\n",
    "model.train()\n",
    "for epoch in range(epochs_total):\n",
    "    info = \"\"\n",
    "    info += f\"Epoch: {epoch + 1}/{epochs_total}\"\n",
    "    # Init metric lists\n",
    "    losses = []\n",
    "    metrics = []\n",
    "    \n",
    "    # Iter over dataset\n",
    "    for n_iter, data in enumerate(train_dataloader):\n",
    "        # Get images and targets\n",
    "        images = data['image'].float().to(\"cuda\")\n",
    "        labels = data['target'].unsqueeze(-1).to(\"cuda\")        \n",
    "        \n",
    "        # Apply GridMix\n",
    "        inputs, targets = criterion.get_sample(images=images, targets=labels)  \n",
    "        \n",
    "        # Predict\n",
    "        preds = model(inputs)            \n",
    "        \n",
    "        # Calculate accuracy\n",
    "        acc = accuracy(preds, targets)\n",
    "        metrics.append(acc)\n",
    "        \n",
    "        # Calculate loss\n",
    "        loss = criterion(preds, targets)   \n",
    "        losses.append(loss.item())\n",
    "                \n",
    "        # Steps\n",
    "        optimizer.zero_grad()\n",
    "        loss.backward()\n",
    "        optimizer.step()\n",
    "\n",
    "    # Print info\n",
    "    info += f\"'loss': {np.mean(losses)}, 'metric': {np.mean(metrics)}\"\n",
    "    print(info)"
   ]
  },
  {
   "cell_type": "code",
   "execution_count": null,
   "metadata": {
    "pycharm": {
     "name": "#%%\n"
    }
   },
   "outputs": [],
   "source": []
  }
 ],
 "metadata": {
  "kernelspec": {
   "display_name": "Python 3",
   "language": "python",
   "name": "python3"
  },
  "language_info": {
   "codemirror_mode": {
    "name": "ipython",
    "version": 3
   },
   "file_extension": ".py",
   "mimetype": "text/x-python",
   "name": "python",
   "nbconvert_exporter": "python",
   "pygments_lexer": "ipython3",
   "version": "3.6.9"
  }
 },
 "nbformat": 4,
 "nbformat_minor": 1
}